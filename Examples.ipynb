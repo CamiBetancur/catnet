{
 "cells": [
  {
   "cell_type": "markdown",
   "metadata": {},
   "source": [
    "# Usage examples"
   ]
  },
  {
   "cell_type": "code",
   "execution_count": null,
   "metadata": {},
   "outputs": [],
   "source": [
    "import catnet"
   ]
  },
  {
   "cell_type": "markdown",
   "metadata": {},
   "source": [
    "## Create networks from literature review tables"
   ]
  },
  {
   "cell_type": "markdown",
   "metadata": {},
   "source": [
    "### Example 1: Literature review data table with a \"long\" format"
   ]
  },
  {
   "cell_type": "markdown",
   "metadata": {},
   "source": [
    "A long dataframe contains one entry of the category variable in one row. For instance, you can see that the following table, `long_df`, has an `impact_cats` columns. In this example, `impact_cats` is the variable to be transformed into a network. Note that for each id (`publication` column), there are many rows, each containing a different `impact_cats` value."
   ]
  },
  {
   "cell_type": "code",
   "execution_count": null,
   "metadata": {},
   "outputs": [
    {
     "data": {
      "text/html": [
       "<div>\n",
       "<style scoped>\n",
       "    .dataframe tbody tr th:only-of-type {\n",
       "        vertical-align: middle;\n",
       "    }\n",
       "\n",
       "    .dataframe tbody tr th {\n",
       "        vertical-align: top;\n",
       "    }\n",
       "\n",
       "    .dataframe thead th {\n",
       "        text-align: right;\n",
       "    }\n",
       "</style>\n",
       "<table border=\"1\" class=\"dataframe\">\n",
       "  <thead>\n",
       "    <tr style=\"text-align: right;\">\n",
       "      <th></th>\n",
       "      <th>publication</th>\n",
       "      <th>year</th>\n",
       "      <th>title</th>\n",
       "      <th>impact</th>\n",
       "      <th>impact_cats</th>\n",
       "      <th>other_info</th>\n",
       "    </tr>\n",
       "  </thead>\n",
       "  <tbody>\n",
       "    <tr>\n",
       "      <th>0</th>\n",
       "      <td>Kumar-Reddy (2004)</td>\n",
       "      <td>2005</td>\n",
       "      <td>The Role of Gender in Urban Mobility Sustainab...</td>\n",
       "      <td>Significant mobility improvements for women in...</td>\n",
       "      <td>Environmental impact</td>\n",
       "      <td>[additional data may be available]</td>\n",
       "    </tr>\n",
       "    <tr>\n",
       "      <th>1</th>\n",
       "      <td>Kumar-Reddy (2004)</td>\n",
       "      <td>2005</td>\n",
       "      <td>The Role of Gender in Urban Mobility Sustainab...</td>\n",
       "      <td>Significant mobility improvements for women in...</td>\n",
       "      <td>Decreased travel time</td>\n",
       "      <td>[additional data may be available]</td>\n",
       "    </tr>\n",
       "    <tr>\n",
       "      <th>2</th>\n",
       "      <td>Kumar-Reddy (2004)</td>\n",
       "      <td>2005</td>\n",
       "      <td>The Role of Gender in Urban Mobility Sustainab...</td>\n",
       "      <td>Significant mobility improvements for women in...</td>\n",
       "      <td>Women's empowerment</td>\n",
       "      <td>[additional data may be available]</td>\n",
       "    </tr>\n",
       "    <tr>\n",
       "      <th>3</th>\n",
       "      <td>Ivanov-Petrov (2024)</td>\n",
       "      <td>2024</td>\n",
       "      <td>Gender-Based Inequalities in Sustainable Trans...</td>\n",
       "      <td>Holistic improvements in gender representation...</td>\n",
       "      <td>Mobility justice</td>\n",
       "      <td>[additional data may be available]</td>\n",
       "    </tr>\n",
       "    <tr>\n",
       "      <th>4</th>\n",
       "      <td>Ivanov-Petrov (2024)</td>\n",
       "      <td>2024</td>\n",
       "      <td>Gender-Based Inequalities in Sustainable Trans...</td>\n",
       "      <td>Holistic improvements in gender representation...</td>\n",
       "      <td>Women's empowerment</td>\n",
       "      <td>[additional data may be available]</td>\n",
       "    </tr>\n",
       "  </tbody>\n",
       "</table>\n",
       "</div>"
      ],
      "text/plain": [
       "            publication  year  \\\n",
       "0    Kumar-Reddy (2004)  2005   \n",
       "1    Kumar-Reddy (2004)  2005   \n",
       "2    Kumar-Reddy (2004)  2005   \n",
       "3  Ivanov-Petrov (2024)  2024   \n",
       "4  Ivanov-Petrov (2024)  2024   \n",
       "\n",
       "                                               title  \\\n",
       "0  The Role of Gender in Urban Mobility Sustainab...   \n",
       "1  The Role of Gender in Urban Mobility Sustainab...   \n",
       "2  The Role of Gender in Urban Mobility Sustainab...   \n",
       "3  Gender-Based Inequalities in Sustainable Trans...   \n",
       "4  Gender-Based Inequalities in Sustainable Trans...   \n",
       "\n",
       "                                              impact            impact_cats  \\\n",
       "0  Significant mobility improvements for women in...   Environmental impact   \n",
       "1  Significant mobility improvements for women in...  Decreased travel time   \n",
       "2  Significant mobility improvements for women in...    Women's empowerment   \n",
       "3  Holistic improvements in gender representation...       Mobility justice   \n",
       "4  Holistic improvements in gender representation...    Women's empowerment   \n",
       "\n",
       "                           other_info  \n",
       "0  [additional data may be available]  \n",
       "1  [additional data may be available]  \n",
       "2  [additional data may be available]  \n",
       "3  [additional data may be available]  \n",
       "4  [additional data may be available]  "
      ]
     },
     "execution_count": 18,
     "metadata": {},
     "output_type": "execute_result"
    }
   ],
   "source": [
    "long_df = catnet.test_data(dataset=\"long\")\n",
    "\n",
    "long_df.head(5)"
   ]
  },
  {
   "cell_type": "markdown",
   "metadata": {},
   "source": [
    "To transform the above literature review table into a network, using the categories from the `impact_cats` column, you can use the function `from_long_df()`. To do this, you must provide an `id_col`, which identifies to which document document each connection between categories belong to (in which document categories coexist). The `var_col` column contains the categories to be transformed into a Network."
   ]
  },
  {
   "cell_type": "markdown",
   "metadata": {},
   "source": [
    "The `from_long_df()` function returns a Network object, as the next cell shows."
   ]
  },
  {
   "cell_type": "code",
   "execution_count": null,
   "metadata": {},
   "outputs": [
    {
     "data": {
      "text/plain": [
       "Network(nodelist cols: ['id', 'label']\n",
       "\tedgelist cols: ['id', 'source', 'target']\n",
       ")"
      ]
     },
     "execution_count": 6,
     "metadata": {},
     "output_type": "execute_result"
    }
   ],
   "source": [
    "net = catnet.from_long_df(long_df,\n",
    "                          id_col=\"publication\",\n",
    "                          var_col=\"impact_cats\")\n",
    "\n",
    "net"
   ]
  },
  {
   "cell_type": "markdown",
   "metadata": {},
   "source": [
    "You can explore the edges and the nodes by accessing the `edgelist` and `nodelist` attributes of the `Network` class variable, as shown in the following code cells (note that the `head(5)` method is added to limit the code cell size and avoid saturation in this document):"
   ]
  },
  {
   "cell_type": "code",
   "execution_count": 4,
   "metadata": {},
   "outputs": [
    {
     "data": {
      "text/html": [
       "<div>\n",
       "<style scoped>\n",
       "    .dataframe tbody tr th:only-of-type {\n",
       "        vertical-align: middle;\n",
       "    }\n",
       "\n",
       "    .dataframe tbody tr th {\n",
       "        vertical-align: top;\n",
       "    }\n",
       "\n",
       "    .dataframe thead th {\n",
       "        text-align: right;\n",
       "    }\n",
       "</style>\n",
       "<table border=\"1\" class=\"dataframe\">\n",
       "  <thead>\n",
       "    <tr style=\"text-align: right;\">\n",
       "      <th></th>\n",
       "      <th>id</th>\n",
       "      <th>source</th>\n",
       "      <th>target</th>\n",
       "    </tr>\n",
       "  </thead>\n",
       "  <tbody>\n",
       "    <tr>\n",
       "      <th>0</th>\n",
       "      <td>Kumar-Reddy (2004)</td>\n",
       "      <td>Environmental impact</td>\n",
       "      <td>Decreased travel time</td>\n",
       "    </tr>\n",
       "    <tr>\n",
       "      <th>1</th>\n",
       "      <td>Kumar-Reddy (2004)</td>\n",
       "      <td>Environmental impact</td>\n",
       "      <td>Women's empowerment</td>\n",
       "    </tr>\n",
       "    <tr>\n",
       "      <th>2</th>\n",
       "      <td>Kumar-Reddy (2004)</td>\n",
       "      <td>Decreased travel time</td>\n",
       "      <td>Women's empowerment</td>\n",
       "    </tr>\n",
       "    <tr>\n",
       "      <th>3</th>\n",
       "      <td>Ivanov-Petrov (2024)</td>\n",
       "      <td>Mobility justice</td>\n",
       "      <td>Women's empowerment</td>\n",
       "    </tr>\n",
       "    <tr>\n",
       "      <th>4</th>\n",
       "      <td>Ivanov-Petrov (2024)</td>\n",
       "      <td>Mobility justice</td>\n",
       "      <td>LGBTQ+ accessibility</td>\n",
       "    </tr>\n",
       "  </tbody>\n",
       "</table>\n",
       "</div>"
      ],
      "text/plain": [
       "                     id                 source                 target\n",
       "0    Kumar-Reddy (2004)   Environmental impact  Decreased travel time\n",
       "1    Kumar-Reddy (2004)   Environmental impact    Women's empowerment\n",
       "2    Kumar-Reddy (2004)  Decreased travel time    Women's empowerment\n",
       "3  Ivanov-Petrov (2024)       Mobility justice    Women's empowerment\n",
       "4  Ivanov-Petrov (2024)       Mobility justice   LGBTQ+ accessibility"
      ]
     },
     "execution_count": 4,
     "metadata": {},
     "output_type": "execute_result"
    }
   ],
   "source": [
    "net.edgelist.head(5)"
   ]
  },
  {
   "cell_type": "code",
   "execution_count": 5,
   "metadata": {},
   "outputs": [
    {
     "data": {
      "text/html": [
       "<div>\n",
       "<style scoped>\n",
       "    .dataframe tbody tr th:only-of-type {\n",
       "        vertical-align: middle;\n",
       "    }\n",
       "\n",
       "    .dataframe tbody tr th {\n",
       "        vertical-align: top;\n",
       "    }\n",
       "\n",
       "    .dataframe thead th {\n",
       "        text-align: right;\n",
       "    }\n",
       "</style>\n",
       "<table border=\"1\" class=\"dataframe\">\n",
       "  <thead>\n",
       "    <tr style=\"text-align: right;\">\n",
       "      <th></th>\n",
       "      <th>id</th>\n",
       "      <th>label</th>\n",
       "    </tr>\n",
       "  </thead>\n",
       "  <tbody>\n",
       "    <tr>\n",
       "      <th>0</th>\n",
       "      <td>Gender-neutral policies</td>\n",
       "      <td>Gender-neutral policies</td>\n",
       "    </tr>\n",
       "    <tr>\n",
       "      <th>1</th>\n",
       "      <td>Employment access</td>\n",
       "      <td>Employment access</td>\n",
       "    </tr>\n",
       "    <tr>\n",
       "      <th>2</th>\n",
       "      <td>Decreased travel time</td>\n",
       "      <td>Decreased travel time</td>\n",
       "    </tr>\n",
       "    <tr>\n",
       "      <th>3</th>\n",
       "      <td>Mobility justice</td>\n",
       "      <td>Mobility justice</td>\n",
       "    </tr>\n",
       "    <tr>\n",
       "      <th>4</th>\n",
       "      <td>Reduced gender gap</td>\n",
       "      <td>Reduced gender gap</td>\n",
       "    </tr>\n",
       "  </tbody>\n",
       "</table>\n",
       "</div>"
      ],
      "text/plain": [
       "                        id                    label\n",
       "0  Gender-neutral policies  Gender-neutral policies\n",
       "1        Employment access        Employment access\n",
       "2    Decreased travel time    Decreased travel time\n",
       "3         Mobility justice         Mobility justice\n",
       "4       Reduced gender gap       Reduced gender gap"
      ]
     },
     "execution_count": 5,
     "metadata": {},
     "output_type": "execute_result"
    }
   ],
   "source": [
    "net.nodelist.head(5)"
   ]
  },
  {
   "cell_type": "markdown",
   "metadata": {},
   "source": [
    "Also, by using the method `with_weigths` of the `EdgeList` class, you can generate an edgelist table with weights:"
   ]
  },
  {
   "cell_type": "code",
   "execution_count": 9,
   "metadata": {},
   "outputs": [
    {
     "data": {
      "text/html": [
       "<div>\n",
       "<style scoped>\n",
       "    .dataframe tbody tr th:only-of-type {\n",
       "        vertical-align: middle;\n",
       "    }\n",
       "\n",
       "    .dataframe tbody tr th {\n",
       "        vertical-align: top;\n",
       "    }\n",
       "\n",
       "    .dataframe thead th {\n",
       "        text-align: right;\n",
       "    }\n",
       "</style>\n",
       "<table border=\"1\" class=\"dataframe\">\n",
       "  <thead>\n",
       "    <tr style=\"text-align: right;\">\n",
       "      <th></th>\n",
       "      <th>source</th>\n",
       "      <th>target</th>\n",
       "      <th>weight</th>\n",
       "    </tr>\n",
       "  </thead>\n",
       "  <tbody>\n",
       "    <tr>\n",
       "      <th>3</th>\n",
       "      <td>Community participation</td>\n",
       "      <td>LGBTQ+ accessibility</td>\n",
       "      <td>3</td>\n",
       "    </tr>\n",
       "    <tr>\n",
       "      <th>41</th>\n",
       "      <td>Women's empowerment</td>\n",
       "      <td>Equity focus</td>\n",
       "      <td>2</td>\n",
       "    </tr>\n",
       "    <tr>\n",
       "      <th>45</th>\n",
       "      <td>Women's empowerment</td>\n",
       "      <td>LGBTQ+ accessibility</td>\n",
       "      <td>2</td>\n",
       "    </tr>\n",
       "    <tr>\n",
       "      <th>44</th>\n",
       "      <td>Women's empowerment</td>\n",
       "      <td>Infrastructure improvements</td>\n",
       "      <td>2</td>\n",
       "    </tr>\n",
       "    <tr>\n",
       "      <th>43</th>\n",
       "      <td>Women's empowerment</td>\n",
       "      <td>Increased safety</td>\n",
       "      <td>2</td>\n",
       "    </tr>\n",
       "  </tbody>\n",
       "</table>\n",
       "</div>"
      ],
      "text/plain": [
       "                     source                       target  weight\n",
       "3   Community participation         LGBTQ+ accessibility       3\n",
       "41      Women's empowerment                 Equity focus       2\n",
       "45      Women's empowerment         LGBTQ+ accessibility       2\n",
       "44      Women's empowerment  Infrastructure improvements       2\n",
       "43      Women's empowerment             Increased safety       2"
      ]
     },
     "execution_count": 9,
     "metadata": {},
     "output_type": "execute_result"
    }
   ],
   "source": [
    "net.edgelist.with_weights(ordered=\"descending\").head(5)"
   ]
  },
  {
   "cell_type": "markdown",
   "metadata": {},
   "source": [
    "### Example 2: Literature review data table with the categories contained in a single cell (\"same_cell\" data)"
   ]
  },
  {
   "cell_type": "markdown",
   "metadata": {},
   "source": [
    "If your literature review table contains a list of categories inside the same cell, you have a \"same_cell\" data frame. The list of categories can use linebreaks (\"\\r\\n\"), hyphens used as bullet points (\"- \"), or semicolons (\";\") as list separators. The following cell preesents an example of this, using hyphens and linebreaks as separators (`impact_cats` column):"
   ]
  },
  {
   "cell_type": "code",
   "execution_count": null,
   "metadata": {},
   "outputs": [
    {
     "data": {
      "text/html": [
       "<div>\n",
       "<style scoped>\n",
       "    .dataframe tbody tr th:only-of-type {\n",
       "        vertical-align: middle;\n",
       "    }\n",
       "\n",
       "    .dataframe tbody tr th {\n",
       "        vertical-align: top;\n",
       "    }\n",
       "\n",
       "    .dataframe thead th {\n",
       "        text-align: right;\n",
       "    }\n",
       "</style>\n",
       "<table border=\"1\" class=\"dataframe\">\n",
       "  <thead>\n",
       "    <tr style=\"text-align: right;\">\n",
       "      <th></th>\n",
       "      <th>publication</th>\n",
       "      <th>year</th>\n",
       "      <th>title</th>\n",
       "      <th>impact</th>\n",
       "      <th>impact_cats</th>\n",
       "      <th>other_info</th>\n",
       "    </tr>\n",
       "  </thead>\n",
       "  <tbody>\n",
       "    <tr>\n",
       "      <th>0</th>\n",
       "      <td>Kumar-Reddy (2004)</td>\n",
       "      <td>2005</td>\n",
       "      <td>The Role of Gender in Urban Mobility Sustainab...</td>\n",
       "      <td>Significant mobility improvements for women in...</td>\n",
       "      <td>- Environmental impact\\r\\n- Decreased travel t...</td>\n",
       "      <td>[additional data may be available]</td>\n",
       "    </tr>\n",
       "    <tr>\n",
       "      <th>1</th>\n",
       "      <td>Ivanov-Petrov (2024)</td>\n",
       "      <td>2024</td>\n",
       "      <td>Gender-Based Inequalities in Sustainable Trans...</td>\n",
       "      <td>Holistic improvements in gender representation...</td>\n",
       "      <td>- Mobility justice\\r\\n- Women's empowerment\\r\\...</td>\n",
       "      <td>[additional data may be available]</td>\n",
       "    </tr>\n",
       "    <tr>\n",
       "      <th>2</th>\n",
       "      <td>Okafor-Ademola (2014)</td>\n",
       "      <td>2006</td>\n",
       "      <td>Gendered Challenges in Accessing Public Transi...</td>\n",
       "      <td>Enhanced safety and inclusivity for queer indi...</td>\n",
       "      <td>- Improved access\\r\\n- Sustainable transport use</td>\n",
       "      <td>[additional data may be available]</td>\n",
       "    </tr>\n",
       "    <tr>\n",
       "      <th>3</th>\n",
       "      <td>Okafor-Ademola (2017)</td>\n",
       "      <td>2018</td>\n",
       "      <td>Impact of Public Transportation on Gender Equi...</td>\n",
       "      <td>Gender-sensitive policies improved overall sat...</td>\n",
       "      <td>- Women's empowerment\\r\\n- Increased safety\\r\\...</td>\n",
       "      <td>[additional data may be available]</td>\n",
       "    </tr>\n",
       "    <tr>\n",
       "      <th>4</th>\n",
       "      <td>Tanaka-Sato (2016)</td>\n",
       "      <td>2002</td>\n",
       "      <td>The Role of Gender in Urban Mobility Sustainab...</td>\n",
       "      <td>Reduction of gender-based mobility gaps in urb...</td>\n",
       "      <td>- Employment access\\r\\n- Infrastructure improv...</td>\n",
       "      <td>[additional data may be available]</td>\n",
       "    </tr>\n",
       "  </tbody>\n",
       "</table>\n",
       "</div>"
      ],
      "text/plain": [
       "             publication  year  \\\n",
       "0     Kumar-Reddy (2004)  2005   \n",
       "1   Ivanov-Petrov (2024)  2024   \n",
       "2  Okafor-Ademola (2014)  2006   \n",
       "3  Okafor-Ademola (2017)  2018   \n",
       "4     Tanaka-Sato (2016)  2002   \n",
       "\n",
       "                                               title  \\\n",
       "0  The Role of Gender in Urban Mobility Sustainab...   \n",
       "1  Gender-Based Inequalities in Sustainable Trans...   \n",
       "2  Gendered Challenges in Accessing Public Transi...   \n",
       "3  Impact of Public Transportation on Gender Equi...   \n",
       "4  The Role of Gender in Urban Mobility Sustainab...   \n",
       "\n",
       "                                              impact  \\\n",
       "0  Significant mobility improvements for women in...   \n",
       "1  Holistic improvements in gender representation...   \n",
       "2  Enhanced safety and inclusivity for queer indi...   \n",
       "3  Gender-sensitive policies improved overall sat...   \n",
       "4  Reduction of gender-based mobility gaps in urb...   \n",
       "\n",
       "                                         impact_cats  \\\n",
       "0  - Environmental impact\\r\\n- Decreased travel t...   \n",
       "1  - Mobility justice\\r\\n- Women's empowerment\\r\\...   \n",
       "2   - Improved access\\r\\n- Sustainable transport use   \n",
       "3  - Women's empowerment\\r\\n- Increased safety\\r\\...   \n",
       "4  - Employment access\\r\\n- Infrastructure improv...   \n",
       "\n",
       "                           other_info  \n",
       "0  [additional data may be available]  \n",
       "1  [additional data may be available]  \n",
       "2  [additional data may be available]  \n",
       "3  [additional data may be available]  \n",
       "4  [additional data may be available]  "
      ]
     },
     "execution_count": 19,
     "metadata": {},
     "output_type": "execute_result"
    }
   ],
   "source": [
    "same_cell_df = catnet.test_data(\"same_cell\")\n",
    "\n",
    "same_cell_df.head(5)"
   ]
  },
  {
   "cell_type": "markdown",
   "metadata": {},
   "source": [
    "To transform these literature review tables into category networks, you can use the `from_same_cell()` function, as following:"
   ]
  },
  {
   "cell_type": "code",
   "execution_count": null,
   "metadata": {},
   "outputs": [
    {
     "data": {
      "text/plain": [
       "Network(nodelist cols: ['id', 'label']\n",
       "\tedgelist cols: ['id', 'source', 'target']\n",
       ")"
      ]
     },
     "execution_count": 20,
     "metadata": {},
     "output_type": "execute_result"
    }
   ],
   "source": [
    "net = catnet.from_same_cell(same_cell_df,\n",
    "                            id_col=\"publication\",\n",
    "                            var_col=\"impact_cats\",\n",
    "                            sep=\"- \")\n",
    "\n",
    "net"
   ]
  },
  {
   "cell_type": "markdown",
   "metadata": {},
   "source": [
    "Like Example 1, you can inspect the edgelist and nodelist of the `Network` object:"
   ]
  },
  {
   "cell_type": "code",
   "execution_count": 21,
   "metadata": {},
   "outputs": [
    {
     "data": {
      "text/html": [
       "<div>\n",
       "<style scoped>\n",
       "    .dataframe tbody tr th:only-of-type {\n",
       "        vertical-align: middle;\n",
       "    }\n",
       "\n",
       "    .dataframe tbody tr th {\n",
       "        vertical-align: top;\n",
       "    }\n",
       "\n",
       "    .dataframe thead th {\n",
       "        text-align: right;\n",
       "    }\n",
       "</style>\n",
       "<table border=\"1\" class=\"dataframe\">\n",
       "  <thead>\n",
       "    <tr style=\"text-align: right;\">\n",
       "      <th></th>\n",
       "      <th>id</th>\n",
       "      <th>source</th>\n",
       "      <th>target</th>\n",
       "    </tr>\n",
       "  </thead>\n",
       "  <tbody>\n",
       "    <tr>\n",
       "      <th>0</th>\n",
       "      <td>Kumar-Reddy (2004)</td>\n",
       "      <td>Environmental impact</td>\n",
       "      <td>Decreased travel time</td>\n",
       "    </tr>\n",
       "    <tr>\n",
       "      <th>1</th>\n",
       "      <td>Kumar-Reddy (2004)</td>\n",
       "      <td>Environmental impact</td>\n",
       "      <td>Women's empowerment</td>\n",
       "    </tr>\n",
       "    <tr>\n",
       "      <th>2</th>\n",
       "      <td>Kumar-Reddy (2004)</td>\n",
       "      <td>Decreased travel time</td>\n",
       "      <td>Women's empowerment</td>\n",
       "    </tr>\n",
       "    <tr>\n",
       "      <th>3</th>\n",
       "      <td>Ivanov-Petrov (2024)</td>\n",
       "      <td>Mobility justice</td>\n",
       "      <td>Women's empowerment</td>\n",
       "    </tr>\n",
       "    <tr>\n",
       "      <th>4</th>\n",
       "      <td>Ivanov-Petrov (2024)</td>\n",
       "      <td>Mobility justice</td>\n",
       "      <td>LGBTQ+ accessibility</td>\n",
       "    </tr>\n",
       "  </tbody>\n",
       "</table>\n",
       "</div>"
      ],
      "text/plain": [
       "                     id                 source                 target\n",
       "0    Kumar-Reddy (2004)   Environmental impact  Decreased travel time\n",
       "1    Kumar-Reddy (2004)   Environmental impact    Women's empowerment\n",
       "2    Kumar-Reddy (2004)  Decreased travel time    Women's empowerment\n",
       "3  Ivanov-Petrov (2024)       Mobility justice    Women's empowerment\n",
       "4  Ivanov-Petrov (2024)       Mobility justice   LGBTQ+ accessibility"
      ]
     },
     "execution_count": 21,
     "metadata": {},
     "output_type": "execute_result"
    }
   ],
   "source": [
    "net.edgelist.head(5)"
   ]
  },
  {
   "cell_type": "code",
   "execution_count": 22,
   "metadata": {},
   "outputs": [
    {
     "data": {
      "text/html": [
       "<div>\n",
       "<style scoped>\n",
       "    .dataframe tbody tr th:only-of-type {\n",
       "        vertical-align: middle;\n",
       "    }\n",
       "\n",
       "    .dataframe tbody tr th {\n",
       "        vertical-align: top;\n",
       "    }\n",
       "\n",
       "    .dataframe thead th {\n",
       "        text-align: right;\n",
       "    }\n",
       "</style>\n",
       "<table border=\"1\" class=\"dataframe\">\n",
       "  <thead>\n",
       "    <tr style=\"text-align: right;\">\n",
       "      <th></th>\n",
       "      <th>id</th>\n",
       "      <th>label</th>\n",
       "    </tr>\n",
       "  </thead>\n",
       "  <tbody>\n",
       "    <tr>\n",
       "      <th>0</th>\n",
       "      <td>Gender-neutral policies</td>\n",
       "      <td>Gender-neutral policies</td>\n",
       "    </tr>\n",
       "    <tr>\n",
       "      <th>1</th>\n",
       "      <td>Inclusivity measures</td>\n",
       "      <td>Inclusivity measures</td>\n",
       "    </tr>\n",
       "    <tr>\n",
       "      <th>2</th>\n",
       "      <td>LGBTQ+ accessibility</td>\n",
       "      <td>LGBTQ+ accessibility</td>\n",
       "    </tr>\n",
       "    <tr>\n",
       "      <th>3</th>\n",
       "      <td>Increased safety</td>\n",
       "      <td>Increased safety</td>\n",
       "    </tr>\n",
       "    <tr>\n",
       "      <th>4</th>\n",
       "      <td>Decreased travel time</td>\n",
       "      <td>Decreased travel time</td>\n",
       "    </tr>\n",
       "  </tbody>\n",
       "</table>\n",
       "</div>"
      ],
      "text/plain": [
       "                        id                    label\n",
       "0  Gender-neutral policies  Gender-neutral policies\n",
       "1     Inclusivity measures     Inclusivity measures\n",
       "2     LGBTQ+ accessibility     LGBTQ+ accessibility\n",
       "3         Increased safety         Increased safety\n",
       "4    Decreased travel time    Decreased travel time"
      ]
     },
     "execution_count": 22,
     "metadata": {},
     "output_type": "execute_result"
    }
   ],
   "source": [
    "net.nodelist.head(5)"
   ]
  },
  {
   "cell_type": "markdown",
   "metadata": {},
   "source": [
    "## Export network to Gephi\n",
    "\n",
    "You can export the `Network.edgelist` and `Network.nodelist` objects to .csv files ready to be used by Gephi. To do this, you can use the `Network.to_gephi()` method. This will produce a folder with the name you choose, following \"_gephi\", in the directory path you choose (`path` attribute of the method). Inside this folder, you will find a .csv for the edgelist and a .csv for the nodelist of your Network."
   ]
  },
  {
   "cell_type": "code",
   "execution_count": null,
   "metadata": {},
   "outputs": [],
   "source": [
    "net.to_gephi(name=\"literature_review\")"
   ]
  }
 ],
 "metadata": {
  "kernelspec": {
   "display_name": "base",
   "language": "python",
   "name": "python3"
  },
  "language_info": {
   "codemirror_mode": {
    "name": "ipython",
    "version": 3
   },
   "file_extension": ".py",
   "mimetype": "text/x-python",
   "name": "python",
   "nbconvert_exporter": "python",
   "pygments_lexer": "ipython3",
   "version": "3.12.3"
  }
 },
 "nbformat": 4,
 "nbformat_minor": 2
}
